{
  "nbformat": 4,
  "nbformat_minor": 0,
  "metadata": {
    "colab": {
      "name": "Scrabble Challenge.ipynb",
      "provenance": [],
      "collapsed_sections": [],
      "authorship_tag": "ABX9TyNXKB9iCQdfCkjp0cfJepyA"
    },
    "kernelspec": {
      "name": "python3",
      "display_name": "Python 3"
    }
  },
  "cells": [
    {
      "cell_type": "code",
      "metadata": {
        "id": "xApD6bsUno2Y",
        "colab_type": "code",
        "colab": {}
      },
      "source": [
        "letters = [\"A\", \"B\", \"C\", \"D\", \"E\", \"F\", \"G\", \"H\", \"I\", \"J\", \"K\", \"L\", \"M\", \"N\", \"O\", \"P\", \"Q\", \"R\", \"S\", \"T\", \"U\", \"V\", \"W\", \"X\", \"Y\", \"Z\"]\n",
        "points = [1, 3, 3, 2, 1, 4, 2, 4, 1, 8, 5, 1, 3, 4, 1, 3, 10, 1, 1, 1, 1, 4, 4, 8, 4, 10]\n",
        "\n"
      ],
      "execution_count": 0,
      "outputs": []
    },
    {
      "cell_type": "code",
      "metadata": {
        "id": "bkEEgKaxoNNu",
        "colab_type": "code",
        "colab": {}
      },
      "source": [
        "letter_to_points={letter:point for letter,point in zip(letters,points)}\n",
        "\n",
        "\n",
        "letter_to_points.update({' ':0})"
      ],
      "execution_count": 0,
      "outputs": []
    },
    {
      "cell_type": "code",
      "metadata": {
        "id": "usi_yNzkoQ_y",
        "colab_type": "code",
        "colab": {
          "base_uri": "https://localhost:8080/",
          "height": 34
        },
        "outputId": "d72b580b-5774-46e6-8a9f-54d38dc05d08"
      },
      "source": [
        "def score_word(word):\n",
        "\n",
        "    point_total=0\n",
        "    \n",
        "    for letter in word:\n",
        "      \n",
        "      point_total += letter_to_points.get(letter,0)\n",
        "      \n",
        "      \n",
        "    return point_total\n",
        "brownie_points='BROWNIE'     \n",
        "\n",
        "print(score_word(brownie_points))"
      ],
      "execution_count": 17,
      "outputs": [
        {
          "output_type": "stream",
          "text": [
            "15\n"
          ],
          "name": "stdout"
        }
      ]
    },
    {
      "cell_type": "code",
      "metadata": {
        "id": "AhF9Qt7PoUPv",
        "colab_type": "code",
        "colab": {}
      },
      "source": [
        "player_to_words={'player1' :[ 'BLUE','TENNIS','EXIT'],'wordNerd': ['EARTH','EYES','MACHINE'],'Lexi Con':['ERASER','BELLY','HUSKY'],'Prof Reader':['ZAP','COMA','PERIOD']}\n",
        "\n",
        "player_to_points = {}"
      ],
      "execution_count": 0,
      "outputs": []
    },
    {
      "cell_type": "code",
      "metadata": {
        "id": "QpqX3X94ocDw",
        "colab_type": "code",
        "colab": {
          "base_uri": "https://localhost:8080/",
          "height": 34
        },
        "outputId": "47a91518-6e11-4df4-98f3-cc3502016174"
      },
      "source": [
        "for player,words in player_to_words.items():\n",
        "  #print('Player',player,'used the following words:',words)\n",
        "  player_points = 0\n",
        "  for word in words:\n",
        "    player_points+=score_word(word)\n",
        "  player_to_points[player] = player_points\n",
        "print(player_to_points)\n"
      ],
      "execution_count": 14,
      "outputs": [
        {
          "output_type": "stream",
          "text": [
            "{'player1': 29, 'wordNerd': 32, 'Lexi Con': 31, 'Prof Reader': 31}\n"
          ],
          "name": "stdout"
        }
      ]
    },
    {
      "cell_type": "code",
      "metadata": {
        "id": "aCJ6h0tlodJD",
        "colab_type": "code",
        "colab": {
          "base_uri": "https://localhost:8080/",
          "height": 54
        },
        "outputId": "1321ab3f-928d-415a-b5a8-5dcbc38b011a"
      },
      "source": [
        "def play_word(player,word):\n",
        "  player_to_words[player].append(word)   \n",
        "\n",
        "play_word('player1','PYTHON')\n",
        "\n",
        "print(player_to_words)"
      ],
      "execution_count": 15,
      "outputs": [
        {
          "output_type": "stream",
          "text": [
            "{'player1': ['BLUE', 'TENNIS', 'EXIT', 'PYTHON'], 'wordNerd': ['EARTH', 'EYES', 'MACHINE'], 'Lexi Con': ['ERASER', 'BELLY', 'HUSKY'], 'Prof Reader': ['ZAP', 'COMA', 'PERIOD']}\n"
          ],
          "name": "stdout"
        }
      ]
    }
  ]
}